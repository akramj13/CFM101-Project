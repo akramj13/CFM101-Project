{
 "cells": [
  {
   "cell_type": "code",
   "execution_count": 2,
   "metadata": {},
   "outputs": [],
   "source": [
    "#These are the libraries you can use.  You may add any libraries directy related to threading if this is a direction\n",
    "#you wish to go (this is not from the course, so it's entirely on you if you wish to use threading).  Any\n",
    "#further libraries you wish to use you must email me, james@uwaterloo.ca, for permission.\n",
    "\n",
    "from IPython.display import display, Math, Latex\n",
    "\n",
    "import pandas as pd\n",
    "import numpy as np\n",
    "import numpy_financial as npf\n",
    "import yfinance as yf\n",
    "import matplotlib.pyplot as plt\n",
    "import random\n",
    "from datetime import datetime"
   ]
  },
  {
   "cell_type": "markdown",
   "metadata": {},
   "source": [
    "## Group Assignment\n",
    "### Team Number: 11\n",
    "### Team Member Names: Akram, Annie, Jester\n",
    "### Team Strategy Chosen: Market Beat"
   ]
  },
  {
   "cell_type": "markdown",
   "metadata": {},
   "source": [
    "Disclose any use of AI for this assignment below (detail where and how you used it).  Please see the course outline for acceptable uses of AI.\n"
   ]
  },
  {
   "cell_type": "code",
   "execution_count": null,
   "metadata": {},
   "outputs": [],
   "source": [
    "# Important Constants: \n",
    "amount = 1_000_000 # Initial investment amount of $1,000,000\n",
    "group = 11\n",
    "\n",
    "# Reading in CSV file: \n",
    "tickers = pd.read_csv('Tickers.csv')\n",
    "ticker_lst = list(tickers['Tickers'])\n",
    "\n",
    "# Initializing variable to store the tickers we will use in our portfolio\n",
    "columns = ['Ticker', 'Price', 'Currency', 'Shares', 'Value', 'Weight']\n",
    "Portfolio_Final = pd.DataFrame(columns=columns)"
   ]
  },
  {
   "cell_type": "code",
   "execution_count": 26,
   "metadata": {},
   "outputs": [],
   "source": [
    "# Code to output final dataframe to a CSV file called Stocks_Group_XX.csv\n",
    "Stocks_Final = Portfolio_Final[['Ticker', 'Shares']]\n",
    "Stocks_Final.to_csv(f'Stocks_Group_{group}.csv', index=False)"
   ]
  },
  {
   "cell_type": "code",
   "execution_count": 42,
   "metadata": {},
   "outputs": [
    {
     "name": "stdout",
     "output_type": "stream",
     "text": [
      "1.239\n",
      "0.618\n",
      "0.722\n",
      "1.239\n",
      "None\n",
      "1.072\n",
      "1.147\n",
      "1.213\n",
      "1.569\n",
      "1.338\n",
      "1.066\n",
      "-0.06\n",
      "1.069\n",
      "1.318\n",
      "0.46\n",
      "1.434\n",
      "1.093\n",
      "None\n",
      "0.397\n",
      "0.608\n",
      "0.416\n",
      "0.47\n",
      "0.684\n",
      "None\n",
      "0.399\n",
      "0.539\n",
      "0.617\n",
      "0.407\n",
      "0.576\n",
      "1.441\n",
      "1.282\n",
      "None\n",
      "0.843\n",
      "2.361\n",
      "0.721\n",
      "0.824\n",
      "0.973\n",
      "0.593\n",
      "1.05\n",
      "0.979\n",
      "1.051\n"
     ]
    }
   ],
   "source": [
    "for ticker in ticker_lst:\n",
    "    print(yf.Ticker(ticker).info.get('beta'))"
   ]
  },
  {
   "cell_type": "code",
   "execution_count": 29,
   "metadata": {},
   "outputs": [
    {
     "data": {
      "text/html": [
       "<div>\n",
       "<style scoped>\n",
       "    .dataframe tbody tr th:only-of-type {\n",
       "        vertical-align: middle;\n",
       "    }\n",
       "\n",
       "    .dataframe tbody tr th {\n",
       "        vertical-align: top;\n",
       "    }\n",
       "\n",
       "    .dataframe thead th {\n",
       "        text-align: right;\n",
       "    }\n",
       "</style>\n",
       "<table border=\"1\" class=\"dataframe\">\n",
       "  <thead>\n",
       "    <tr style=\"text-align: right;\">\n",
       "      <th></th>\n",
       "      <th>Ticker</th>\n",
       "      <th>Price</th>\n",
       "      <th>Currency</th>\n",
       "      <th>Shares</th>\n",
       "      <th>Value</th>\n",
       "      <th>Weight</th>\n",
       "    </tr>\n",
       "  </thead>\n",
       "  <tbody>\n",
       "  </tbody>\n",
       "</table>\n",
       "</div>"
      ],
      "text/plain": [
       "Empty DataFrame\n",
       "Columns: [Ticker, Price, Currency, Shares, Value, Weight]\n",
       "Index: []"
      ]
     },
     "execution_count": 29,
     "metadata": {},
     "output_type": "execute_result"
    }
   ],
   "source": [
    "Portfolio_Final"
   ]
  },
  {
   "cell_type": "markdown",
   "metadata": {},
   "source": [
    "## Contribution Declaration\n",
    "\n",
    "The following team members made a meaningful contribution to this assignment:\n",
    "\n",
    "---\n",
    "<p style=\"color: #004dd3\">\n",
    "Akram Jamil\n",
    "</p>\n",
    "\n",
    "<p style=\"color: #2C8CA9\">\n",
    "Jester Yang\n",
    "</p>\n",
    "\n",
    "<p style=\"color: #3cc19d;\">\n",
    "Annie Wong\n",
    "</p>\n",
    "\n",
    "---"
   ]
  },
  {
   "cell_type": "markdown",
   "metadata": {},
   "source": []
  }
 ],
 "metadata": {
  "kernelspec": {
   "display_name": "venv",
   "language": "python",
   "name": "python3"
  },
  "language_info": {
   "codemirror_mode": {
    "name": "ipython",
    "version": 3
   },
   "file_extension": ".py",
   "mimetype": "text/x-python",
   "name": "python",
   "nbconvert_exporter": "python",
   "pygments_lexer": "ipython3",
   "version": "3.9.19"
  }
 },
 "nbformat": 4,
 "nbformat_minor": 2
}
