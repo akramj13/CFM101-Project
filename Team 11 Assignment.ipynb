{
 "cells": [
  {
   "cell_type": "code",
   "execution_count": 136,
   "metadata": {},
   "outputs": [],
   "source": [
    "#These are the libraries you can use.  You may add any libraries directy related to threading if this is a direction\n",
    "#you wish to go (this is not from the course, so it's entirely on you if you wish to use threading).  Any\n",
    "#further libraries you wish to use you must email me, james@uwaterloo.ca, for permission.\n",
    "\n",
    "from IPython.display import display, Math, Latex\n",
    "\n",
    "import pandas as pd\n",
    "import numpy as np\n",
    "import numpy_financial as npf\n",
    "import yfinance as yf\n",
    "import matplotlib.pyplot as plt\n",
    "import random\n",
    "from datetime import datetime\n",
    "from scipy.optimize import minimize"
   ]
  },
  {
   "cell_type": "markdown",
   "metadata": {},
   "source": [
    "## Group Assignment\n",
    "### Team Number: 11\n",
    "### Team Member Names: Akram, Annie, Jester\n",
    "### Team Strategy Chosen: Market Beat"
   ]
  },
  {
   "cell_type": "markdown",
   "metadata": {},
   "source": [
    "Disclose any use of AI for this assignment below (detail where and how you used it).  Please see the course outline for acceptable uses of AI.\n"
   ]
  },
  {
   "cell_type": "code",
   "execution_count": 137,
   "metadata": {},
   "outputs": [],
   "source": [
    "# Important Constants: \n",
    "amount = 1_000_000 # Initial investment amount of $1,000,000\n",
    "group = 11\n",
    "\n",
    "# Reading in CSV file: \n",
    "tickers = pd.read_csv('Tickers.csv')\n",
    "ticker_lst = list(tickers['Tickers'])\n",
    "\n",
    "# Initializing variable to store the tickers we will use in our portfolio\n",
    "columns = ['Ticker', 'Price', 'Currency', 'Shares', 'Value', 'Weight']\n",
    "Portfolio_Final = pd.DataFrame(columns=columns)"
   ]
  },
  {
   "cell_type": "code",
   "execution_count": 138,
   "metadata": {},
   "outputs": [
    {
     "name": "stderr",
     "output_type": "stream",
     "text": [
      "$AGN: possibly delisted; no price data found  (period=1y) (Yahoo error = \"No data found, symbol may be delisted\")\n",
      "$CELG: possibly delisted; no price data found  (period=1y) (Yahoo error = \"No data found, symbol may be delisted\")\n",
      "$MON: possibly delisted; no price data found  (period=1y) (Yahoo error = \"No data found, symbol may be delisted\")\n",
      "$RTN: possibly delisted; no price data found  (period=1y) (Yahoo error = \"No data found, symbol may be delisted\")\n"
     ]
    },
    {
     "name": "stdout",
     "output_type": "stream",
     "text": [
      "The following tickers were removed: ['AGN', 'CELG', 'MON', 'RTN']\n",
      "\n"
     ]
    }
   ],
   "source": [
    "# filtering stocks\n",
    "valid_tickers = []\n",
    "invalid_tickers = []\n",
    "\n",
    "# loop through all tickers to check\n",
    "for ticker in ticker_lst:\n",
    "    try:\n",
    "        info = yf.Ticker(ticker).fast_info\n",
    "        if (info and info.get(\"exchange\") is not None): # filter for stocks delisted on yfinance\n",
    "            if(info.get(\"currency\") == \"USD\" or info.get(\"currency\") == \"CAD\"): # filter for stocks that are not USD\n",
    "                valid_tickers.append(ticker)\n",
    "            else:\n",
    "                invalid_tickers.append(ticker)\n",
    "    except:\n",
    "        invalid_tickers.append(ticker)\n",
    "\n",
    "print(\"The following tickers were removed:\", invalid_tickers)\n",
    "\n",
    "print(\"\")"
   ]
  },
  {
   "cell_type": "code",
   "execution_count": 158,
   "metadata": {},
   "outputs": [
    {
     "name": "stderr",
     "output_type": "stream",
     "text": [
      "[*********************100%***********************]  4 of 4 completed\n"
     ]
    },
    {
     "name": "stdout",
     "output_type": "stream",
     "text": [
      "[0.125 0.4   0.35  0.125]\n"
     ]
    }
   ],
   "source": [
    "# sharpe ratio optimization\n",
    "\n",
    "def optimal_weights(tickers, start_date, end_date, risk_free_rate):\n",
    "    # download data\n",
    "    data = yf.download(tickers, start=start_date, end=end_date)['Close']\n",
    "\n",
    "    # calculate mean return of stocks and covariance of stocks\n",
    "    returns = data.pct_change()\n",
    "    returns.drop(index=returns.index[0], inplace = True)\n",
    "    mean_returns = returns.mean()\n",
    "    covariance_matrix = returns.cov()\n",
    "\n",
    "    def neg_sharpe(weights):\n",
    "        # calculate portfolio expected return by weighing each stock's expected return\n",
    "        portfolio_expected_return = np.sum(weights*mean_returns)    \n",
    "\n",
    "        portfolio_variance = 0\n",
    "        # calculate portfolio risk (std) by finding the portfolio variance, which is affected by covariance\n",
    "        for i in range(len(weights)):\n",
    "            for j in range(len(weights)):\n",
    "                portfolio_variance += weights[i] * weights[j] * covariance_matrix.iloc[i, j]\n",
    "        portfolio_std = np.sqrt(portfolio_variance)\n",
    "        \n",
    "        # calculate sharpe ratio\n",
    "        sharpe = (portfolio_expected_return - risk_free_rate)/portfolio_std\n",
    "        \n",
    "        return -sharpe #make sharpe ratio negative for minimize function\n",
    "\n",
    "\n",
    "    # constraints\n",
    "    def check_sum(weights): \n",
    "        return np.sum(weights)-1 #returns 0 if weights sum up to 1\n",
    "    constraints = {'type': 'eq', 'fun': check_sum}\n",
    "\n",
    "    min_weight = 1/(2*len(tickers))\n",
    "    max_weight = 0.4\n",
    "\n",
    "    bounds = [(min_weight, max_weight)]*len(tickers)\n",
    "\n",
    "    # initial guess\n",
    "    init_guess = [1.0/len(tickers)]*len(tickers)\n",
    "\n",
    "    results = minimize(neg_sharpe, init_guess, method=\"SLSQP\", bounds=bounds, constraints=constraints).x\n",
    "\n",
    "    return results\n",
    "\n",
    "\n",
    "tickers = [\"AAPL\", \"MSFT\", \"GOOGL\", \"AMZN\"]\n",
    "\n",
    "print(optimal_weights(tickers, \"2023-01-01\", \"2024-01-01\", 0.02))\n"
   ]
  },
  {
   "cell_type": "code",
   "execution_count": 141,
   "metadata": {},
   "outputs": [],
   "source": [
    "# Code to output final dataframe to a CSV file called Stocks_Group_XX.csv\n",
    "Stocks_Final = Portfolio_Final[['Ticker', 'Shares']]\n",
    "Stocks_Final.to_csv(f'Stocks_Group_{group}.csv', index=False)"
   ]
  },
  {
   "cell_type": "code",
   "execution_count": 8,
   "metadata": {},
   "outputs": [
    {
     "data": {
      "text/html": [
       "<div>\n",
       "<style scoped>\n",
       "    .dataframe tbody tr th:only-of-type {\n",
       "        vertical-align: middle;\n",
       "    }\n",
       "\n",
       "    .dataframe tbody tr th {\n",
       "        vertical-align: top;\n",
       "    }\n",
       "\n",
       "    .dataframe thead th {\n",
       "        text-align: right;\n",
       "    }\n",
       "</style>\n",
       "<table border=\"1\" class=\"dataframe\">\n",
       "  <thead>\n",
       "    <tr style=\"text-align: right;\">\n",
       "      <th></th>\n",
       "      <th>Ticker</th>\n",
       "      <th>Price</th>\n",
       "      <th>Currency</th>\n",
       "      <th>Shares</th>\n",
       "      <th>Value</th>\n",
       "      <th>Weight</th>\n",
       "    </tr>\n",
       "  </thead>\n",
       "  <tbody>\n",
       "  </tbody>\n",
       "</table>\n",
       "</div>"
      ],
      "text/plain": [
       "Empty DataFrame\n",
       "Columns: [Ticker, Price, Currency, Shares, Value, Weight]\n",
       "Index: []"
      ]
     },
     "execution_count": 8,
     "metadata": {},
     "output_type": "execute_result"
    }
   ],
   "source": [
    "Portfolio_Final"
   ]
  },
  {
   "cell_type": "markdown",
   "metadata": {},
   "source": [
    "## Contribution Declaration\n",
    "\n",
    "The following team members made a meaningful contribution to this assignment:\n",
    "\n",
    "---\n",
    "<p style=\"color: #004dd3\">\n",
    "Akram Jamil\n",
    "</p>\n",
    "\n",
    "<p style=\"color: #2C8CA9\">\n",
    "Jester Yang\n",
    "</p>\n",
    "\n",
    "<p style=\"color: #3cc19d;\">\n",
    "Annie Wong\n",
    "</p>\n",
    "\n",
    "---"
   ]
  },
  {
   "cell_type": "markdown",
   "metadata": {},
   "source": []
  },
  {
   "cell_type": "markdown",
   "metadata": {},
   "source": []
  }
 ],
 "metadata": {
  "kernelspec": {
   "display_name": "venv",
   "language": "python",
   "name": "python3"
  },
  "language_info": {
   "codemirror_mode": {
    "name": "ipython",
    "version": 3
   },
   "file_extension": ".py",
   "mimetype": "text/x-python",
   "name": "python",
   "nbconvert_exporter": "python",
   "pygments_lexer": "ipython3",
   "version": "3.9.19"
  }
 },
 "nbformat": 4,
 "nbformat_minor": 2
}
